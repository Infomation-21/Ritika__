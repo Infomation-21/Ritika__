{
 "cells": [
  {
   "cell_type": "code",
   "execution_count": 3,
   "id": "c48c79e9-d0f2-4a71-bcde-743edc886810",
   "metadata": {},
   "outputs": [],
   "source": [
    "import pandas as pd\n",
    "import re\n",
    "import nltk\n",
    "from nltk.corpus import stopwords\n",
    "from nltk.sentiment.vader import SentimentIntensityAnalyzer\n",
    "import matplotlib.pyplot as plt\n",
    "import seaborn as sns"
   ]
  },
  {
   "cell_type": "code",
   "execution_count": 20,
   "id": "a70ac800-6481-4fdd-8204-cfdff3b54cca",
   "metadata": {},
   "outputs": [
    {
     "data": {
      "text/html": [
       "<div>\n",
       "<style scoped>\n",
       "    .dataframe tbody tr th:only-of-type {\n",
       "        vertical-align: middle;\n",
       "    }\n",
       "\n",
       "    .dataframe tbody tr th {\n",
       "        vertical-align: top;\n",
       "    }\n",
       "\n",
       "    .dataframe thead th {\n",
       "        text-align: right;\n",
       "    }\n",
       "</style>\n",
       "<table border=\"1\" class=\"dataframe\">\n",
       "  <thead>\n",
       "    <tr style=\"text-align: right;\">\n",
       "      <th></th>\n",
       "      <th>Parent's Name</th>\n",
       "      <th>Feedback</th>\n",
       "      <th>Date</th>\n",
       "    </tr>\n",
       "  </thead>\n",
       "  <tbody>\n",
       "    <tr>\n",
       "      <th>0</th>\n",
       "      <td>Priya Sharma</td>\n",
       "      <td>Excellent teaching and facilities.</td>\n",
       "      <td>01-06-2007</td>\n",
       "    </tr>\n",
       "    <tr>\n",
       "      <th>1</th>\n",
       "      <td>Rajesh Kumar</td>\n",
       "      <td>Good academic results, but management issues.</td>\n",
       "      <td>15-09-2010</td>\n",
       "    </tr>\n",
       "    <tr>\n",
       "      <th>2</th>\n",
       "      <td>Anjali Patel</td>\n",
       "      <td>Facilities have deteriorated over time.</td>\n",
       "      <td>20-02-2013</td>\n",
       "    </tr>\n",
       "    <tr>\n",
       "      <th>3</th>\n",
       "      <td>Ravi Singh</td>\n",
       "      <td>Quality of education declining.</td>\n",
       "      <td>05-07-2015</td>\n",
       "    </tr>\n",
       "    <tr>\n",
       "      <th>4</th>\n",
       "      <td>Sunita Mehta</td>\n",
       "      <td>Lack of communication from the school.</td>\n",
       "      <td>12-10-2017</td>\n",
       "    </tr>\n",
       "  </tbody>\n",
       "</table>\n",
       "</div>"
      ],
      "text/plain": [
       "  Parent's Name                                       Feedback        Date\n",
       "0  Priya Sharma             Excellent teaching and facilities.  01-06-2007\n",
       "1  Rajesh Kumar  Good academic results, but management issues.  15-09-2010\n",
       "2  Anjali Patel        Facilities have deteriorated over time.  20-02-2013\n",
       "3    Ravi Singh                Quality of education declining.  05-07-2015\n",
       "4  Sunita Mehta         Lack of communication from the school.  12-10-2017"
      ]
     },
     "execution_count": 20,
     "metadata": {},
     "output_type": "execute_result"
    }
   ],
   "source": [
    "\n",
    "# Load the data\n",
    "df = pd.read_csv(r\"C:\\Users\\rawat\\Downloads\\parents_feedback_xyz_school.csv\")\n",
    "df.head()"
   ]
  },
  {
   "cell_type": "code",
   "execution_count": 7,
   "id": "f0497aec-caa5-4f33-bcd6-c850ceee0dcb",
   "metadata": {},
   "outputs": [
    {
     "name": "stderr",
     "output_type": "stream",
     "text": [
      "[nltk_data] Downloading package stopwords to\n",
      "[nltk_data]     C:\\Users\\rawat\\AppData\\Roaming\\nltk_data...\n",
      "[nltk_data]   Unzipping corpora\\stopwords.zip.\n"
     ]
    }
   ],
   "source": [
    "# Preprocess the text data\n",
    "nltk.download('stopwords')\n",
    "stop_words = set(stopwords.words('english'))\n"
   ]
  },
  {
   "cell_type": "code",
   "execution_count": 22,
   "id": "2bb9f35f-fe25-4752-9cd3-968cae0aa992",
   "metadata": {},
   "outputs": [],
   "source": [
    "def clean_text(text):\n",
    "    text = re.sub(r'[^a-zA-Z\\s]', '', text)  # Remove special characters and numbers\n",
    "    text = text.lower()  # Convert to lowercase\n",
    "    text = ' '.join([word for word in text.split() if word not in stop_words])  # Remove stopwords\n",
    "    return text\n",
    "\n",
    "df['cleaned_feedback'] = df['Feedback'].apply(clean_text)\n"
   ]
  },
  {
   "cell_type": "code",
   "execution_count": 11,
   "id": "895283cc-9c69-416e-b28d-4f4c2c66f0c0",
   "metadata": {},
   "outputs": [
    {
     "name": "stderr",
     "output_type": "stream",
     "text": [
      "[nltk_data] Downloading package vader_lexicon to\n",
      "[nltk_data]     C:\\Users\\rawat\\AppData\\Roaming\\nltk_data...\n"
     ]
    }
   ],
   "source": [
    "# Sentiment Analysis with VADER\n",
    "nltk.download('vader_lexicon')\n",
    "sia = SentimentIntensityAnalyzer()\n",
    "\n",
    "def get_vader_sentiment(text):\n",
    "    sentiment_dict = sia.polarity_scores(text)\n",
    "    if sentiment_dict['compound'] >= 0.05:\n",
    "        return 'positive'\n",
    "    elif sentiment_dict['compound'] <= -0.05:\n",
    "        return 'negative'\n",
    "    else:\n",
    "        return 'neutral'\n",
    "\n",
    "df['vader_sentiment'] = df['cleaned_feedback'].apply(get_vader_sentiment)\n"
   ]
  },
  {
   "cell_type": "code",
   "execution_count": 16,
   "id": "81c40207-1530-41ba-a548-22c4e4c86d60",
   "metadata": {},
   "outputs": [
    {
     "name": "stderr",
     "output_type": "stream",
     "text": [
      "C:\\Users\\rawat\\AppData\\Local\\Temp\\ipykernel_5192\\1584511773.py:3: FutureWarning: \n",
      "\n",
      "Passing `palette` without assigning `hue` is deprecated and will be removed in v0.14.0. Assign the `x` variable to `hue` and set `legend=False` for the same effect.\n",
      "\n",
      "  sns.countplot(data=df, x='vader_sentiment', palette='viridis')\n"
     ]
    },
    {
     "data": {
      "image/png": "[encoded data removed]",
      "text/plain": [
       "<Figure size 1000x600 with 1 Axes>"
      ]
     },
     "metadata": {},
     "output_type": "display_data"
    }
   ],
   "source": [
    "# Visualize the Results\n",
    "plt.figure(figsize=(10, 6))\n",
    "sns.countplot(data=df, x='vader_sentiment', palette='viridis')\n",
    "plt.title('Sentiment Distribution for Parents\\' Feedback (VADER)')\n",
    "plt.xlabel('Sentiment')\n",
    "plt.ylabel('Count')\n",
    "plt.show()\n"
   ]
  }
 ],
 "metadata": {
  "kernelspec": {
   "display_name": "Python 3 (ipykernel)",
   "language": "python",
   "name": "python3"
  },
  "language_info": {
   "codemirror_mode": {
    "name": "ipython",
    "version": 3
   },
   "file_extension": ".py",
   "mimetype": "text/x-python",
   "name": "python",
   "nbconvert_exporter": "python",
   "pygments_lexer": "ipython3",
   "version": "3.12.4"
  }
 },
 "nbformat": 4,
 "nbformat_minor": 5
}
